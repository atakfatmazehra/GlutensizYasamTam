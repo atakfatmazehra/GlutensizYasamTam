{
  "nbformat": 4,
  "nbformat_minor": 0,
  "metadata": {
    "colab": {
      "name": "Untitled0.ipynb",
      "provenance": [],
      "authorship_tag": "ABX9TyNiCgitLYKcQvuG3MSxHVrA",
      "include_colab_link": true
    },
    "kernelspec": {
      "name": "python3",
      "display_name": "Python 3"
    },
    "language_info": {
      "name": "python"
    }
  },
  "cells": [
    {
      "cell_type": "markdown",
      "metadata": {
        "id": "view-in-github",
        "colab_type": "text"
      },
      "source": [
        "<a href=\"https://colab.research.google.com/github/atakfatmazehra/GlutensizYasamTam/blob/master/Untitled0.ipynb\" target=\"_parent\"><img src=\"https://colab.research.google.com/assets/colab-badge.svg\" alt=\"Open In Colab\"/></a>"
      ]
    },
    {
      "cell_type": "code",
      "execution_count": 10,
      "metadata": {
        "colab": {
          "base_uri": "https://localhost:8080/"
        },
        "id": "0x_ZYoUAg1Nh",
        "outputId": "c1343c18-83e8-418f-eb6e-57058c3d47de"
      },
      "outputs": [
        {
          "output_type": "stream",
          "name": "stdout",
          "text": [
            "   ulke  boy  kilo   yas cinsiyet\n",
            "0    tr  130    30  10.0        e\n",
            "1    tr  125    36  11.0        e\n",
            "2    tr  135    34  10.0        k\n",
            "3    tr  133    30   9.0        k\n",
            "4    tr  129    38  12.0        e\n",
            "5    tr  180    90  30.0        e\n",
            "6    tr  190    80  25.0        e\n",
            "7    tr  175    90  35.0        e\n",
            "8    tr  177    60  22.0        k\n",
            "9    us  185   105  33.0        e\n",
            "10   us  165    55  27.0        k\n",
            "11   us  155    50  44.0        k\n",
            "12   us  160    58   NaN        k\n",
            "13   us  162    59  41.0        k\n",
            "14   us  167    62  55.0        k\n",
            "15   fr  174    70  47.0        e\n",
            "16   fr  193    90   NaN        e\n",
            "17   fr  187    80  27.0        e\n",
            "18   fr  183    88  28.0        e\n",
            "19   fr  159    40  29.0        k\n",
            "20   fr  164    66  32.0        k\n",
            "21   fr  166    56  42.0        k\n",
            "[[130.  30.  10.]\n",
            " [125.  36.  11.]\n",
            " [135.  34.  10.]\n",
            " [133.  30.   9.]\n",
            " [129.  38.  12.]\n",
            " [180.  90.  30.]\n",
            " [190.  80.  25.]\n",
            " [175.  90.  35.]\n",
            " [177.  60.  22.]\n",
            " [185. 105.  33.]\n",
            " [165.  55.  27.]\n",
            " [155.  50.  44.]\n",
            " [160.  58.  nan]\n",
            " [162.  59.  41.]\n",
            " [167.  62.  55.]\n",
            " [174.  70.  47.]\n",
            " [193.  90.  nan]\n",
            " [187.  80.  27.]\n",
            " [183.  88.  28.]\n",
            " [159.  40.  29.]\n",
            " [164.  66.  32.]\n",
            " [166.  56.  42.]]\n",
            "[[130.    30.    10.  ]\n",
            " [125.    36.    11.  ]\n",
            " [135.    34.    10.  ]\n",
            " [133.    30.     9.  ]\n",
            " [129.    38.    12.  ]\n",
            " [180.    90.    30.  ]\n",
            " [190.    80.    25.  ]\n",
            " [175.    90.    35.  ]\n",
            " [177.    60.    22.  ]\n",
            " [185.   105.    33.  ]\n",
            " [165.    55.    27.  ]\n",
            " [155.    50.    44.  ]\n",
            " [160.    58.    28.45]\n",
            " [162.    59.    41.  ]\n",
            " [167.    62.    55.  ]\n",
            " [174.    70.    47.  ]\n",
            " [193.    90.    28.45]\n",
            " [187.    80.    27.  ]\n",
            " [183.    88.    28.  ]\n",
            " [159.    40.    29.  ]\n",
            " [164.    66.    32.  ]\n",
            " [166.    56.    42.  ]]\n"
          ]
        }
      ],
      "source": [
        "import numpy as np\n",
        "import matplotlib.pyplot as plt\n",
        "import pandas as pd\n",
        "\n",
        "veriler = pd.read_csv(\"/makine öğrenmesi/eksikveriler.csv\")\n",
        "print(veriler)\n",
        "#veri ön işleme\n",
        "boy=veriler[[\"boy\"]]\n",
        "#print(boy)\n",
        "\n",
        "boykilo=veriler[[\"boy\",\"kilo\"]]\n",
        "#print(boykilo)\n",
        "\n",
        "#eksik veriler(dosya değişti)\n",
        "\n",
        "#sci-kit learn\n",
        "\n",
        "from sklearn.impute import SimpleImputer\n",
        "imputer= SimpleImputer(missing_values=np.nan, strategy='mean')\n",
        "\n",
        "Yas= veriler.iloc[:,1:4].values\n",
        "print(Yas)\n",
        "imputer=imputer.fit(Yas[:,1:4]) #fit=öğrenme metodudur\n",
        "#sayısal verileri öğren\n",
        "Yas[:,1:4]=imputer.transform(Yas[:,1:4])#transform ile değiştir, öğrendikleriyle\n",
        "print(Yas)\n",
        "\n"
      ]
    }
  ]
}